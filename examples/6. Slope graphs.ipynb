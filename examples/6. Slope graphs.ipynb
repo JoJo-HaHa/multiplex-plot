{
 "cells": [
  {
   "cell_type": "markdown",
   "metadata": {},
   "source": [
    "# 6. Slope graphs\n",
    "\n",
    "You might never have used a slope graph before, but you probably have seen them before.\n",
    "Slope graphs are not commonly included in visualization packages, but they are great tools to tell a story.\n",
    "These types of visualizations show how values change, possibly as a result of time or an action."
   ]
  }
 ],
 "metadata": {
  "kernelspec": {
   "display_name": "venv",
   "language": "python",
   "name": "venv"
  },
  "language_info": {
   "codemirror_mode": {
    "name": "ipython",
    "version": 3
   },
   "file_extension": ".py",
   "mimetype": "text/x-python",
   "name": "python",
   "nbconvert_exporter": "python",
   "pygments_lexer": "ipython3",
   "version": "3.8.2"
  }
 },
 "nbformat": 4,
 "nbformat_minor": 4
}
