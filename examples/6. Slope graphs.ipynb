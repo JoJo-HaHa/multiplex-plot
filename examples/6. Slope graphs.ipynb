{
 "cells": [
  {
   "cell_type": "markdown",
   "metadata": {},
   "source": [
    "# 6. Slope graphs\n",
    "\n",
    "You might never have used a slope graph before, but you probably have seen them before.\n",
    "Slope graphs are not commonly included in visualization packages, but they are great tools to tell a story.\n",
    "These types of visualizations show how values change, possibly as a result of time or an action.\n",
    "\n",
    "In this notebook, we will go through a simple example that will show you one application for slope graphs: plotting the popularity of different energy sources over 20 years."
   ]
  },
  {
   "cell_type": "code",
   "execution_count": 1,
   "metadata": {},
   "outputs": [],
   "source": [
    "%load_ext autoreload\n",
    "%autoreload 2\n",
    "\n",
    "import importlib\n",
    "import matplotlib.pyplot as plt\n",
    "import os\n",
    "import pandas as pd\n",
    "import sys\n",
    "\n",
    "path = sys.path[0]\n",
    "path = os.path.join(path, \"..\")\n",
    "if path not in sys.path:\n",
    "    sys.path.insert(1, path)"
   ]
  },
  {
   "cell_type": "markdown",
   "metadata": {},
   "source": [
    "The slope graph example uses data from [the International Energy Agency](https://www.iea.org/data-and-statistics?country=EU28&fuel=Energy%20supply&indicator=Electricity%20generation%20by%20source), showing how the energy sources in the European Union changed from 1998 to 2018.\n",
    "\n",
    "Changes over time, like this one, are a common use case for slope graphs.\n",
    "A time series can illustrate the same thing, but the message tends to get muddled up.\n",
    "As we'll see in this notebook, the slope graph's message is more direct."
   ]
  },
  {
   "cell_type": "markdown",
   "metadata": {},
   "source": [
    "As usual, first we read the data.\n",
    "The included dataset contains information about energy sources from the European Union in 1998 and 2018.\n",
    "\n",
    "The dataset has several energy sources, but we ignore those that are barely used."
   ]
  },
  {
   "cell_type": "code",
   "execution_count": 2,
   "metadata": {},
   "outputs": [
    {
     "data": {
      "text/html": [
       "<div>\n",
       "<style scoped>\n",
       "    .dataframe tbody tr th:only-of-type {\n",
       "        vertical-align: middle;\n",
       "    }\n",
       "\n",
       "    .dataframe tbody tr th {\n",
       "        vertical-align: top;\n",
       "    }\n",
       "\n",
       "    .dataframe thead th {\n",
       "        text-align: right;\n",
       "    }\n",
       "</style>\n",
       "<table border=\"1\" class=\"dataframe\">\n",
       "  <thead>\n",
       "    <tr style=\"text-align: right;\">\n",
       "      <th></th>\n",
       "      <th>1998</th>\n",
       "      <th>2018</th>\n",
       "    </tr>\n",
       "    <tr>\n",
       "      <th>Source</th>\n",
       "      <th></th>\n",
       "      <th></th>\n",
       "    </tr>\n",
       "  </thead>\n",
       "  <tbody>\n",
       "    <tr>\n",
       "      <th>Nuclear</th>\n",
       "      <td>932851.0</td>\n",
       "      <td>827007</td>\n",
       "    </tr>\n",
       "    <tr>\n",
       "      <th>Coal</th>\n",
       "      <td>943992.0</td>\n",
       "      <td>660266</td>\n",
       "    </tr>\n",
       "    <tr>\n",
       "      <th>Natural gas</th>\n",
       "      <td>392921.0</td>\n",
       "      <td>622935</td>\n",
       "    </tr>\n",
       "    <tr>\n",
       "      <th>Hydro</th>\n",
       "      <td>374215.0</td>\n",
       "      <td>378639</td>\n",
       "    </tr>\n",
       "    <tr>\n",
       "      <th>Wind</th>\n",
       "      <td>11273.0</td>\n",
       "      <td>377423</td>\n",
       "    </tr>\n",
       "    <tr>\n",
       "      <th>Biofuels</th>\n",
       "      <td>23446.0</td>\n",
       "      <td>168115</td>\n",
       "    </tr>\n",
       "    <tr>\n",
       "      <th>Solar PV</th>\n",
       "      <td>NaN</td>\n",
       "      <td>122972</td>\n",
       "    </tr>\n",
       "    <tr>\n",
       "      <th>Oil</th>\n",
       "      <td>220936.0</td>\n",
       "      <td>55909</td>\n",
       "    </tr>\n",
       "  </tbody>\n",
       "</table>\n",
       "</div>"
      ],
      "text/plain": [
       "                 1998    2018\n",
       "Source                       \n",
       "Nuclear      932851.0  827007\n",
       "Coal         943992.0  660266\n",
       "Natural gas  392921.0  622935\n",
       "Hydro        374215.0  378639\n",
       "Wind          11273.0  377423\n",
       "Biofuels      23446.0  168115\n",
       "Solar PV          NaN  122972\n",
       "Oil          220936.0   55909"
      ]
     },
     "execution_count": 2,
     "metadata": {},
     "output_type": "execute_result"
    }
   ],
   "source": [
    "# load the data\n",
    "df = pd.read_csv('data/energy-changes.csv')\n",
    "df = df.set_index('Source')\n",
    "df = df[ df.max(axis=1) > 1e5 ]\n",
    "df = df[[ '1998', '2018' ]]\n",
    "df = df.sort_values(by='2018', ascending=False)\n",
    "df"
   ]
  }
 ],
 "metadata": {
  "kernelspec": {
   "display_name": "venv",
   "language": "python",
   "name": "venv"
  },
  "language_info": {
   "codemirror_mode": {
    "name": "ipython",
    "version": 3
   },
   "file_extension": ".py",
   "mimetype": "text/x-python",
   "name": "python",
   "nbconvert_exporter": "python",
   "pygments_lexer": "ipython3",
   "version": "3.8.2"
  }
 },
 "nbformat": 4,
 "nbformat_minor": 4
}
