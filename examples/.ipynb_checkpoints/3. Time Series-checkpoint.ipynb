{
 "cells": [
  {
   "cell_type": "markdown",
   "metadata": {},
   "source": [
    "# 3. Time Series\n",
    "\n",
    "Time series are possibly the simplest matplotlib visualizations. Although time series are expressive and intuitive visualizations to follow, extracting meaning from them requires interpretation. Multiplex's time series make it easier to highlight the story you want to convey through the plot.\n",
    "\n",
    "At its most basic, Multiplex's time series performs the exact same function as matplotlib's `plot`: the `TimeSeries` class passes on all arguments and keyword arguments to the `plot` function. This notebook contains a simple running example, plotting the sunrise and sunset in Malta without daylight saving."
   ]
  },
  {
   "cell_type": "code",
   "execution_count": 1,
   "metadata": {},
   "outputs": [],
   "source": [
    "%load_ext autoreload\n",
    "%autoreload 2\n",
    "\n",
    "import datetime\n",
    "import importlib\n",
    "import matplotlib\n",
    "import matplotlib.pyplot as plt\n",
    "import numpy as np\n",
    "import nltk\n",
    "import os\n",
    "import pandas as pd\n",
    "import sys\n",
    "\n",
    "path = sys.path[0]\n",
    "path = os.path.join(path, \"..\")\n",
    "if path not in sys.path:\n",
    "    sys.path.insert(1, path)"
   ]
  },
  {
   "cell_type": "markdown",
   "metadata": {},
   "source": [
    "Next, we plot the time series. Plotting it is very similar to how you would plot any other time series in matplotlib. However, Multiplex does not favor legends. Instead, line labels are drawn at the end of the time series. That way, you can read the plot as you read the data, rather than keep switching between reading the data and interpreting it with the legend.\n",
    "\n",
    "Labels can be styled by passing on the `label_style` dictionary. Any parameter accepted by matplotlib's Text can also be passed. Multiplex uses color association to make it easier to read the time series—by default, the label will use the same color as the time series plot."
   ]
  }
 ],
 "metadata": {
  "kernelspec": {
   "display_name": "Python 3",
   "language": "python",
   "name": "python3"
  },
  "language_info": {
   "codemirror_mode": {
    "name": "ipython",
    "version": 3
   },
   "file_extension": ".py",
   "mimetype": "text/x-python",
   "name": "python",
   "nbconvert_exporter": "python",
   "pygments_lexer": "ipython3",
   "version": "3.7.4"
  }
 },
 "nbformat": 4,
 "nbformat_minor": 2
}
