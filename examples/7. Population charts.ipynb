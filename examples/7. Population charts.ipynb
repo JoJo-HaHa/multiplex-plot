{
 "cells": [
  {
   "cell_type": "markdown",
   "metadata": {},
   "source": [
    "# 7. Population charts\n",
    "\n",
    "Population charts are a new addition to Multiplex that help you display data visually with one point per population item.\n",
    "These kind of visualizations can be helpful in many scenarios, such as displaying the population of countries to breaking down a population into different groups.\n",
    "\n",
    "As usual, Multiplex gives you the possibility of customizing these visualizations to your heart's content, allowing you tell different stories with the same type of visualization.\n",
    "We'll explore these options in this notebook.\n",
    "We will go through some examples that show you how you can use population charts in your projects."
   ]
  },
  {
   "cell_type": "code",
   "execution_count": 1,
   "metadata": {},
   "outputs": [],
   "source": [
    "%load_ext autoreload\n",
    "%autoreload 2\n",
    "\n",
    "import importlib\n",
    "import matplotlib.pyplot as plt\n",
    "import os\n",
    "import pandas as pd\n",
    "import sys\n",
    "\n",
    "path = sys.path[0]\n",
    "path = os.path.join(path, \"..\")\n",
    "if path not in sys.path:\n",
    "    sys.path.insert(1, path)"
   ]
  },
  {
   "cell_type": "code",
   "execution_count": 19,
   "metadata": {},
   "outputs": [
    {
     "name": "stdout",
     "output_type": "stream",
     "text": [
      "Original size (1):  200.00000000000023\n",
      "Original size (3):  100.0\n",
      "Reduce by ratio 0.06250000000000001\n"
     ]
    },
    {
     "data": {
      "image/png": "[encoded data removed]",
      "text/plain": [
       "<Figure size 360x360 with 1 Axes>"
      ]
     },
     "metadata": {},
     "output_type": "display_data"
    }
   ],
   "source": [
    "from matplotlib.transforms import Bbox\n",
    "from multiplex import drawable, util\n",
    "drawable = importlib.reload(drawable)\n",
    "util = importlib.reload(util)\n",
    "plt.style.use(os.path.join(sys.path[0], '..', 'styles', \"modern.style\"))\n",
    "\n",
    "# set up the plot\n",
    "figure = plt.figure(figsize=(5, 5))\n",
    "viz = drawable.Drawable(figure)\n",
    "\n",
    "def get_s(bb, viz):\n",
    "    \"\"\"\n",
    "    Get the original size of the scatter point.\n",
    "    \"\"\"\n",
    "    \n",
    "    cx, cy = (bb.x0 + bb.x1) / 2, (bb.y0 + bb.y1) / 2\n",
    "    bb_px = util.to_px(viz.axes, bb, viz.axes.transData)\n",
    "    sx, sy = (bb_px.x1 - bb_px.x0) ** 2, (bb_px.y1 - bb_px.y0) ** 2\n",
    "\n",
    "#     ratio = util.get_aspect(viz.axes)\n",
    "#     print('Aspect ratio: ', ratio)\n",
    "    \n",
    "#     return min(sx, sy)\n",
    "    return sy\n",
    "\n",
    "s = 200\n",
    "\n",
    "# draw the first population\n",
    "points = [ viz.scatter(1, y / 10, s=s, color='C0') for y in range(1, 10, 1) ]\n",
    "bb_og = util.get_scatter_bb(viz.figure, viz.axes, points[0], viz.axes.transData)\n",
    "print('Original size (1): ', get_s(bb_og, viz))\n",
    "\n",
    "# draw a second population, this time with a longer x-tail\n",
    "points_2 = [ viz.scatter(1 + x / 10, 1 + y / 10, s=s*2, color='C0')\n",
    "                for y in range(1, 10, 1)\n",
    "                for x in range(0, 5, 1) ]\n",
    "bb_og_2 = util.get_scatter_bb(viz.figure, viz.axes, points_2[-1], viz.axes.transData)\n",
    "\n",
    "# draw a third population\n",
    "points_3 = [ viz.scatter(1 + x / 10, 2 + y / 10, s=s*0.5, color='C0')\n",
    "                for y in range(1, 10, 1)\n",
    "                for x in range(0, 2, 1) ]\n",
    "bb_og_3 = util.get_scatter_bb(viz.figure, viz.axes, points_3[-1], viz.axes.transData)\n",
    "print('Original size (3): ', get_s(bb_og_3, viz))\n",
    "\n",
    "# create a new bounding box and get the size of a scatter point that fits inside of it\n",
    "# the y dimensions will be the same when the plot grows vertically\n",
    "# the x dimensions will be the same when the plot grows horizontally\n",
    "s_og = get_s(bb_og, viz)\n",
    "ratio = s_og / s\n",
    "print('Reduce by ratio', ratio)\n",
    "for point in points:\n",
    "    point.set_sizes([ point.get_sizes()[0] * ratio ])\n",
    "    \n",
    "for point in points_2:\n",
    "    point.set_sizes([ point.get_sizes()[0] * ratio ]) # set using the same ratio as the first population so all populations have the same size!\n",
    "\n",
    "for point in points_3:\n",
    "    point.set_sizes([ point.get_sizes()[0] * ratio ]) # set using the same ratio as the first population so all populations have the same size!\n",
    "\n",
    "bb = util.get_scatter_bb(viz.figure, viz.axes, points[0], viz.axes.transData)\n",
    "viz.set_xlim(0.9, 1.9)\n",
    "viz.show()"
   ]
  },
  {
   "cell_type": "code",
   "execution_count": null,
   "metadata": {},
   "outputs": [],
   "source": []
  }
 ],
 "metadata": {
  "kernelspec": {
   "display_name": "phd",
   "language": "python",
   "name": "phd"
  },
  "language_info": {
   "codemirror_mode": {
    "name": "ipython",
    "version": 3
   },
   "file_extension": ".py",
   "mimetype": "text/x-python",
   "name": "python",
   "nbconvert_exporter": "python",
   "pygments_lexer": "ipython3",
   "version": "3.8.5"
  }
 },
 "nbformat": 4,
 "nbformat_minor": 4
}
