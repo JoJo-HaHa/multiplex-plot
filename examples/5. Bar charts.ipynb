{
 "cells": [
  {
   "cell_type": "markdown",
   "metadata": {},
   "source": [
    "# 5. Bar charts\n",
    "\n",
    "Bar charts are very common, but that is no reason to avoid them. If anything, readers immediately know how to interpret the graph.\n",
    "\n",
    "In this notebook, we will go through a simple example involving the 100% bar chart visualization. Although this visualization can be created easily with matplotlib, Multiplex includes helper functions so you can create these visualizations faster."
   ]
  },
  {
   "cell_type": "code",
   "execution_count": 1,
   "metadata": {},
   "outputs": [],
   "source": [
    "%load_ext autoreload\n",
    "%autoreload 2\n",
    "\n",
    "import importlib\n",
    "import matplotlib.pyplot as plt\n",
    "import os\n",
    "import pandas as pd\n",
    "import sys\n",
    "\n",
    "path = sys.path[0]\n",
    "path = os.path.join(path, \"..\")\n",
    "if path not in sys.path:\n",
    "    sys.path.insert(1, path)"
   ]
  },
  {
   "cell_type": "markdown",
   "metadata": {},
   "source": [
    "The first example uses data from [the International Energy Agency](https://www.iea.org/data-and-statistics?fuel=Energy%20supply&indicator=Electricity%20generation%20by%20source) to show how different countries generate electricity. Although a normal bar chart would do, a 100% bar chart makes it clearer how the energy trends are different from one region to another.\n",
    "\n",
    "The included dataset contains information about energy sources from China, the European Union and the United States. We compare only five sources: coal, oil, natural gas, nuclear and renewable energy sources."
   ]
  },
  {
   "cell_type": "code",
   "execution_count": 2,
   "metadata": {},
   "outputs": [
    {
     "data": {
      "text/html": [
       "<div>\n",
       "<style scoped>\n",
       "    .dataframe tbody tr th:only-of-type {\n",
       "        vertical-align: middle;\n",
       "    }\n",
       "\n",
       "    .dataframe tbody tr th {\n",
       "        vertical-align: top;\n",
       "    }\n",
       "\n",
       "    .dataframe thead th {\n",
       "        text-align: right;\n",
       "    }\n",
       "</style>\n",
       "<table border=\"1\" class=\"dataframe\">\n",
       "  <thead>\n",
       "    <tr style=\"text-align: right;\">\n",
       "      <th></th>\n",
       "      <th>Coal</th>\n",
       "      <th>Oil</th>\n",
       "      <th>Natural Gas</th>\n",
       "      <th>Nuclear</th>\n",
       "      <th>Renewable</th>\n",
       "    </tr>\n",
       "    <tr>\n",
       "      <th>Region</th>\n",
       "      <th></th>\n",
       "      <th></th>\n",
       "      <th></th>\n",
       "      <th></th>\n",
       "      <th></th>\n",
       "    </tr>\n",
       "  </thead>\n",
       "  <tbody>\n",
       "    <tr>\n",
       "      <td>China</td>\n",
       "      <td>4508568</td>\n",
       "      <td>10278</td>\n",
       "      <td>196400</td>\n",
       "      <td>248070</td>\n",
       "      <td>1708612</td>\n",
       "    </tr>\n",
       "    <tr>\n",
       "      <td>European Union</td>\n",
       "      <td>709362</td>\n",
       "      <td>60660</td>\n",
       "      <td>663311</td>\n",
       "      <td>829719</td>\n",
       "      <td>1035872</td>\n",
       "    </tr>\n",
       "    <tr>\n",
       "      <td>United States</td>\n",
       "      <td>1254542</td>\n",
       "      <td>38825</td>\n",
       "      <td>1513414</td>\n",
       "      <td>841329</td>\n",
       "      <td>786799</td>\n",
       "    </tr>\n",
       "  </tbody>\n",
       "</table>\n",
       "</div>"
      ],
      "text/plain": [
       "                   Coal    Oil  Natural Gas  Nuclear  Renewable\n",
       "Region                                                         \n",
       "China           4508568  10278       196400   248070    1708612\n",
       "European Union   709362  60660       663311   829719    1035872\n",
       "United States   1254542  38825      1513414   841329     786799"
      ]
     },
     "execution_count": 2,
     "metadata": {},
     "output_type": "execute_result"
    }
   ],
   "source": [
    "# load the data\n",
    "df = pd.read_csv('data/energy.csv')\n",
    "df.set_index('Region', inplace=True)\n",
    "df"
   ]
  },
  {
   "cell_type": "markdown",
   "metadata": {},
   "source": [
    "Having loaded the data, we can draw the 100% bar chart by calling the `draw_bar_100` function on the Drawable. Always provide the list of values as the first argument. Other arguments and keyword arguments can be used to style the bars.\n",
    "\n",
    "> Note that the 100% bar chart visualization moves the x-axis ticks and label to the top of the plot. It also removes the grid. These changes can be disabled by passing on `style_plot=False` to the `draw_bar_100` function."
   ]
  },
  {
   "cell_type": "code",
   "execution_count": 3,
   "metadata": {},
   "outputs": [
    {
     "data": {
      "image/png": "[encoded data removed]",
      "text/plain": [
       "<Figure size 720x216 with 1 Axes>"
      ]
     },
     "metadata": {},
     "output_type": "display_data"
    }
   ],
   "source": [
    "# import the Drawable class and set the style\n",
    "from multiplex import drawable\n",
    "drawable = importlib.reload(drawable)\n",
    "plt.style.use(os.path.join(sys.path[0], '..', 'styles', \"modern.style\"))\n",
    "\n",
    "# create a general style\n",
    "style = { 'color': 'C0' }\n",
    "\n",
    "# draw the visualization\n",
    "figure = plt.figure(figsize=(10, 3))\n",
    "viz = drawable.Drawable(figure)\n",
    "viz.draw_bar_100(df.loc['China'].tolist(), **style)\n",
    "viz.draw_bar_100(df.loc['United States'].tolist(), **style)\n",
    "viz.draw_bar_100(df.loc['European Union'].tolist(), **style)\n",
    "\n",
    "# customize the plot\n",
    "viz.set_xlabel('Percentage of total')\n",
    "viz.set_ylabel('Region')\n",
    "viz.set_title('Electricity generation by source', loc='left')\n",
    "viz.set_caption(\"\"\"China, the European Union and the United States have markedly different ways of generating electricity.\n",
    "                   Data from the International Energy Agency as of 2017.\"\"\")\n",
    "plt.show()"
   ]
  }
 ],
 "metadata": {
  "kernelspec": {
   "display_name": "Python 3",
   "language": "python",
   "name": "python3"
  },
  "language_info": {
   "codemirror_mode": {
    "name": "ipython",
    "version": 3
   },
   "file_extension": ".py",
   "mimetype": "text/x-python",
   "name": "python",
   "nbconvert_exporter": "python",
   "pygments_lexer": "ipython3",
   "version": "3.7.4"
  }
 },
 "nbformat": 4,
 "nbformat_minor": 2
}
