{
 "cells": [
  {
   "cell_type": "markdown",
   "metadata": {},
   "source": [
    "# 5. Bar charts\n",
    "\n",
    "Bar charts are very common, but that is no reason to avoid them. If anything, readers immediately know how to interpret the graph.\n",
    "\n",
    "In this notebook, we will go through a simple example involving the 100% bar chart visualization. Although this visualization can be created easily with matplotlib, Multiplex includes helper functions so you can create these visualizations faster."
   ]
  },
  {
   "cell_type": "code",
   "execution_count": 2,
   "metadata": {},
   "outputs": [
    {
     "name": "stdout",
     "output_type": "stream",
     "text": [
      "The autoreload extension is already loaded. To reload it, use:\n",
      "  %reload_ext autoreload\n"
     ]
    }
   ],
   "source": [
    "%load_ext autoreload\n",
    "%autoreload 2\n",
    "\n",
    "import importlib\n",
    "import matplotlib.pyplot as plt\n",
    "import os\n",
    "import pandas as pd\n",
    "import sys\n",
    "\n",
    "path = sys.path[0]\n",
    "path = os.path.join(path, \"..\")\n",
    "if path not in sys.path:\n",
    "    sys.path.insert(1, path)"
   ]
  },
  {
   "cell_type": "markdown",
   "metadata": {},
   "source": [
    "The first example uses data from [the International Energy Agency](https://www.iea.org/data-and-statistics?fuel=Energy%20supply&indicator=Electricity%20generation%20by%20source) to show how different countries generate electricity. Although a normal bar chart would do, a 100% bar chart makes it clearer how the energy trends are different from one country to another."
   ]
  },
  {
   "cell_type": "code",
   "execution_count": 3,
   "metadata": {},
   "outputs": [],
   "source": [
    "# import the Drawable class and set the style\n",
    "from multiplex import drawable\n",
    "drawable = importlib.reload(drawable)"
   ]
  }
 ],
 "metadata": {
  "kernelspec": {
   "display_name": "Python 3",
   "language": "python",
   "name": "python3"
  },
  "language_info": {
   "codemirror_mode": {
    "name": "ipython",
    "version": 3
   },
   "file_extension": ".py",
   "mimetype": "text/x-python",
   "name": "python",
   "nbconvert_exporter": "python",
   "pygments_lexer": "ipython3",
   "version": "3.7.4"
  }
 },
 "nbformat": 4,
 "nbformat_minor": 2
}
